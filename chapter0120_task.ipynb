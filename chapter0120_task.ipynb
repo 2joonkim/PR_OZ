{
  "cells": [
    {
      "cell_type": "markdown",
      "metadata": {
        "id": "view-in-github",
        "colab_type": "text"
      },
      "source": [
        "<a href=\"https://colab.research.google.com/github/2joonkim/PR_OZ/blob/main/chapter0120_task.ipynb\" target=\"_parent\"><img src=\"https://colab.research.google.com/assets/colab-badge.svg\" alt=\"Open In Colab\"/></a>"
      ]
    },
    {
      "cell_type": "markdown",
      "metadata": {
        "id": "aLkxKxnFLowa"
      },
      "source": [
        "안녕하세요. 수강생 여러분~! Chapter17 ~ 20 수업은 잘 들으셨나요?\n",
        "\n",
        "Chapter01 ~ 20의 수업 내용을 바탕으로 아래 문제를 풀어주시면 됩니다.\n",
        "\n",
        "저번에 했던 \"붕어빵 자동 판매 시스템\"을 리팩토링 해봅시다 !!!\n",
        "\n",
        "못해도 괜찮아요 ! 같이 해봅시다 !\n",
        "\n",
        "<br>\n",
        "\n",
        "\n",
        "[**답변 입력 방법**]\n",
        "\n",
        "문제 아래에 있는 코드 입력창에 정답코드를 작성하신 후  __▷ 버튼을 클릭해 코드를 실행__ 해보세요<br>"
      ]
    },
    {
      "cell_type": "markdown",
      "metadata": {
        "id": "D8ptsKIzaO3N"
      },
      "source": [
        "### 리팩토링 과제\n",
        "\n",
        "Day4에서 만든 \"붕어빵 자동 판매 시스템\"은 절차적 코드로 구현되어있습니다.\n",
        "<br>\n",
        "\n",
        "Day5에서 배운 함수, 클래스 개념을 적용시켜 객체지향적으로 리팩토링을 진행해주세요\n"
      ]
    },
    {
      "cell_type": "code",
      "execution_count": null,
      "metadata": {
        "id": "uMXm2woraO3N"
      },
      "outputs": [],
      "source": [
        "# 리팩토링 과제 힌트\n",
        "# 구조는 아래와 같습니다.\n",
        "class BungeoppangShop:\n",
        "    def __init__(self):\n",
        "\n",
        "    def check_stock(self):\n",
        "\n",
        "    def process_order(self, bread_type, bread_count):\n",
        "\n",
        "    def admin_mode(self):\n",
        "\n",
        "    def calculate_total_sales(self):\n",
        "\n",
        "def main():\n",
        "\n",
        "if __name__ == \"__main__\":\n",
        "    main()\n"
      ]
    },
    {
      "cell_type": "markdown",
      "metadata": {
        "id": "6F0EgMU-aO3O"
      },
      "source": [
        "__BungeoppangShop 클래스__\n",
        "\n",
        "- __init__(): 초기 재고, 가격, 판매량을 설정합니다.\n",
        "- check_stock(): 현재 재고를 출력합니다.\n",
        "- process_order(): 주문을 처리하고 재고를 업데이트합니다.\n",
        "- admin_mode(): 관리자 모드에서 재고를 추가합니다.\n",
        "- calculate_total_sales(): 총 매출을 계산하고 출력합니다."
      ]
    },
    {
      "cell_type": "markdown",
      "metadata": {
        "id": "GZ0dsLOUaO3O"
      },
      "source": [
        "__[과제 1: 초기화 메서드 __init__]__\n",
        "\n",
        "목표: __init__ 메서드를 구현하여 붕어빵 가게의 초기 재고, 가격, 판매량을 설정합니다.\n",
        "\n",
        "설명: self.stock, self.prices, self.sales 딕셔너리를 초기화하세요.\n",
        "- stock\n",
        "    - \"팥붕어빵\": 10\n",
        "    - \"슈크림붕어빵\": 8\n",
        "    - \"초코붕어빵\": 5\n",
        "\n",
        "- prices\n",
        "    - \"팥붕어빵\": 1000\n",
        "    - \"슈크림붕어빵\": 1200\n",
        "    - \"초코붕어빵\": 1500\n",
        "\n",
        "- sales\n",
        "    - \"팥붕어빵\": 0,\n",
        "    - \"슈크림붕어빵\": 0,\n",
        "    - \"초코붕어빵\": 0"
      ]
    },
    {
      "cell_type": "code",
      "execution_count": null,
      "metadata": {
        "id": "MXTnZZsBaO3O"
      },
      "outputs": [],
      "source": [
        "class BoongShop:\n",
        "    def __init__(self):\n",
        "        self.stock = {\"팥붕어빵\": 10, \"슈크림붕어빵\": 8, \"초코붕어빵\": 5}\n",
        "        self.prices = {\"팥붕어빵\": 1000, \"슈크림붕어빵\": 1200, \"초코붕어빵\": 1500}\n",
        "        self.sales = {\"팥붕어빵\": 0, \"슈크림붕어빵\": 0, \"초코붕어빵\": 0}\n",
        "\n",
        "shop = BoongShop()"
      ]
    },
    {
      "cell_type": "markdown",
      "source": [],
      "metadata": {
        "id": "l9JVo9NVhKCb"
      }
    },
    {
      "cell_type": "markdown",
      "source": [],
      "metadata": {
        "id": "mBtK9kAwhKZ3"
      }
    },
    {
      "cell_type": "markdown",
      "metadata": {
        "id": "LUoF4bvwaO3O"
      },
      "source": [
        "__[과제 2: 재고 확인 메서드 check_stock]__\n",
        "\n",
        "목표: check_stock 함수를 구현하여 현재 붕어빵 재고를 출력합니다.\n",
        "\n",
        "설명: self.stock 딕셔너리를 순회하며 각 붕어빵의 종류와 재고를 출력하세요.\n"
      ]
    },
    {
      "cell_type": "code",
      "execution_count": null,
      "metadata": {
        "id": "N-y6fy50aO3O"
      },
      "outputs": [],
      "source": [
        "class boong_type:\n",
        "    def check_stock(self):\n",
        "        for boong_type, stock in self.stock.items():\n",
        "            print(f\"{boong_type}: {stock}\")"
      ]
    },
    {
      "cell_type": "markdown",
      "metadata": {
        "id": "zD-rmfPgaO3P"
      },
      "source": [
        "__[과제 3: 주문 처리 메서드 process_order]__\n",
        "\n",
        "목표: process_order 함수를 구현하여 손님의 주문을 처리하고 재고를 업데이트합니다.\n",
        "\n",
        "설명: bread_type과 bread_count를 매개변수로 받아, 재고를 확인하고 충분한 경우 재고를 감소시키고 판매량을 증가시킵니다. 재고가 부족하거나 잘못된 붕어빵 종류인 경우 적절한 메시지를 출력하세요."
      ]
    },
    {
      "cell_type": "code",
      "execution_count": null,
      "metadata": {
        "id": "AVFVLKO3aO3P"
      },
      "outputs": [],
      "source": [
        "def process_order(bread_type, bread_count):\n",
        "\n",
        "  inventory = {\n",
        "    \"팥\": 10,\n",
        "    \"슈크림\": 5,\n",
        "    \"초코\": 8\n",
        "  }\n",
        "\n",
        "  if bread_type in inventory:\n",
        "\n",
        "    if inventory[bread_type] >= bread_count:\n",
        "      inventory[bread_type] -= bread_count\n",
        "      print(f\"{bread_type} 붕어빵 {bread_count}개 판매 완료!\")\n",
        "\n",
        "    else:\n",
        "      print(\"재고가 부족합니다.\")\n",
        "\n",
        "  else:\n",
        "    print(\"잘못된 붕어빵 종류입니다.\")"
      ]
    },
    {
      "cell_type": "markdown",
      "metadata": {
        "id": "YdPs417DaO3P"
      },
      "source": [
        "__[과제 4: 관리자 모드 메서드 admin_mode]__\n",
        "\n",
        "목표: admin_mode 메서드를 구현하여 관리자 모드에서 재고를 추가할 수 있도록 합니다.\n",
        "\n",
        "설명: bread_type과 additional_stock을 입력받아 재고를 추가합니다. 잘못된 입력 값이 들어온 경우 적절한 메시지를 출력하세요."
      ]
    },
    {
      "cell_type": "code",
      "execution_count": null,
      "metadata": {
        "id": "03GuEqL9aO3P",
        "colab": {
          "base_uri": "https://localhost:8080/"
        },
        "outputId": "3c1a267c-4743-44b9-8a87-197c35ffac31"
      },
      "outputs": [
        {
          "output_type": "stream",
          "name": "stdout",
          "text": [
            "팥붕어빵 붕어빵 5개 추가되었습니다.\n",
            "잘못된 붕어빵 종류입니다.\n"
          ]
        }
      ],
      "source": [
        "class BoongShop:\n",
        "    def __init__(self):\n",
        "        self.stock = {\"팥붕어빵\": 10, \"슈크림붕어빵\": 8, \"초코붕어빵\": 5}\n",
        "        self.prices = {\"팥붕어빵\": 1000, \"슈크림붕어빵\": 1200, \"초코붕어빵\": 1500}\n",
        "        self.sales = {\"팥붕어빵\": 0, \"슈크림붕어빵\": 0, \"초코붕어빵\": 0}\n",
        "\n",
        "    def admin_mode(self, bread_type, additional_stock):\n",
        "        if bread_type in self.stock:\n",
        "            self.stock[bread_type] += additional_stock\n",
        "            print(f\"{bread_type} 붕어빵 {additional_stock}개 추가되었습니다.\")\n",
        "        else:\n",
        "            print(\"잘못된 붕어빵 종류입니다.\")\n",
        "\n",
        "shop = BoongShop()\n",
        "shop.admin_mode(\"팥붕어빵\", 5)\n",
        "shop.admin_mode(\"딸기붕어빵\", 3)"
      ]
    },
    {
      "cell_type": "markdown",
      "metadata": {
        "id": "dqtQ8aOraO3P"
      },
      "source": [
        "\n",
        "__[과제 5: 매출 계산 메서드 calculate_total_sales]__\n",
        "\n",
        "목표: calculate_total_sales 메서드를 구현하여 총 매출을 계산하고 출력합니다.\n",
        "\n",
        "설명: self.sales와 self.prices를 사용하여 총 매출을 계산하고 출력하세요."
      ]
    },
    {
      "cell_type": "code",
      "execution_count": null,
      "metadata": {
        "id": "p5eCytnOaO3P",
        "colab": {
          "base_uri": "https://localhost:8080/",
          "height": 307
        },
        "outputId": "5e1ecc1e-e637-473f-b5f3-82520a900474"
      },
      "outputs": [
        {
          "output_type": "error",
          "ename": "AttributeError",
          "evalue": "'BoongShop' object has no attribute 'sales'",
          "traceback": [
            "\u001b[0;31m---------------------------------------------------------------------------\u001b[0m",
            "\u001b[0;31mAttributeError\u001b[0m                            Traceback (most recent call last)",
            "\u001b[0;32m<ipython-input-6-398c07249ae2>\u001b[0m in \u001b[0;36m<cell line: 11>\u001b[0;34m()\u001b[0m\n\u001b[1;32m      9\u001b[0m \u001b[0;34m\u001b[0m\u001b[0m\n\u001b[1;32m     10\u001b[0m \u001b[0mshop\u001b[0m \u001b[0;34m=\u001b[0m \u001b[0mBoongShop\u001b[0m\u001b[0;34m(\u001b[0m\u001b[0;34m)\u001b[0m\u001b[0;34m\u001b[0m\u001b[0;34m\u001b[0m\u001b[0m\n\u001b[0;32m---> 11\u001b[0;31m \u001b[0mshop\u001b[0m\u001b[0;34m.\u001b[0m\u001b[0mcalculate_total_sales\u001b[0m\u001b[0;34m(\u001b[0m\u001b[0;34m)\u001b[0m\u001b[0;34m\u001b[0m\u001b[0;34m\u001b[0m\u001b[0m\n\u001b[0m",
            "\u001b[0;32m<ipython-input-6-398c07249ae2>\u001b[0m in \u001b[0;36mcalculate_total_sales\u001b[0;34m(self)\u001b[0m\n\u001b[1;32m      3\u001b[0m     \u001b[0;32mdef\u001b[0m \u001b[0mcalculate_total_sales\u001b[0m\u001b[0;34m(\u001b[0m\u001b[0mself\u001b[0m\u001b[0;34m)\u001b[0m\u001b[0;34m:\u001b[0m\u001b[0;34m\u001b[0m\u001b[0;34m\u001b[0m\u001b[0m\n\u001b[1;32m      4\u001b[0m         \u001b[0mtotal_sales\u001b[0m \u001b[0;34m=\u001b[0m \u001b[0;36m0\u001b[0m\u001b[0;34m\u001b[0m\u001b[0;34m\u001b[0m\u001b[0m\n\u001b[0;32m----> 5\u001b[0;31m         \u001b[0;32mfor\u001b[0m \u001b[0mbread_type\u001b[0m\u001b[0;34m,\u001b[0m \u001b[0mquantity\u001b[0m \u001b[0;32min\u001b[0m \u001b[0mself\u001b[0m\u001b[0;34m.\u001b[0m\u001b[0msales\u001b[0m\u001b[0;34m.\u001b[0m\u001b[0mitems\u001b[0m\u001b[0;34m(\u001b[0m\u001b[0;34m)\u001b[0m\u001b[0;34m:\u001b[0m\u001b[0;34m\u001b[0m\u001b[0;34m\u001b[0m\u001b[0m\n\u001b[0m\u001b[1;32m      6\u001b[0m             \u001b[0mprice\u001b[0m \u001b[0;34m=\u001b[0m \u001b[0mself\u001b[0m\u001b[0;34m.\u001b[0m\u001b[0mprices\u001b[0m\u001b[0;34m[\u001b[0m\u001b[0mbread_type\u001b[0m\u001b[0;34m]\u001b[0m\u001b[0;34m\u001b[0m\u001b[0;34m\u001b[0m\u001b[0m\n\u001b[1;32m      7\u001b[0m             \u001b[0mtotal_sales\u001b[0m \u001b[0;34m+=\u001b[0m \u001b[0mquantity\u001b[0m \u001b[0;34m*\u001b[0m \u001b[0mprice\u001b[0m\u001b[0;34m\u001b[0m\u001b[0;34m\u001b[0m\u001b[0m\n",
            "\u001b[0;31mAttributeError\u001b[0m: 'BoongShop' object has no attribute 'sales'"
          ]
        }
      ],
      "source": [
        "class BoongShop:\n",
        "\n",
        "    def calculate_total_sales(self):\n",
        "        total_sales = 0\n",
        "        for bread_type, quantity in self.sales.items():\n",
        "            price = self.prices[bread_type]\n",
        "            total_sales += quantity * price\n",
        "        print(f\"총 매출: {total_sales}원\")\n",
        "\n",
        "shop = BoongShop()\n",
        "shop.calculate_total_sales()"
      ]
    },
    {
      "cell_type": "markdown",
      "metadata": {
        "id": "uK4TOstYaO3P"
      },
      "source": [
        "__[과제 6: 메인 함수 main]__\n",
        "\n",
        "목표: main 함수를 작성하여 프로그램의 주요 로직을 실행합니다.\n",
        "\n",
        "설명:\n",
        "- BungeoppangShop 객체를 생성합니다.\n",
        "- 사용자에게 모드를 선택하도록 요청합니다.\n",
        "- \"주문\" 모드에서는 손님의 주문을 처리하고, \"관리자\" 모드에서는 재고를 추가할 수 있습니다.\n",
        "- 프로그램이 종료될 때 총 매출을 계산하고 데이터를 저장합니다.\n"
      ]
    },
    {
      "cell_type": "code",
      "execution_count": null,
      "metadata": {
        "id": "QSbf1vW5aO3P"
      },
      "outputs": [],
      "source": [
        "\n",
        "print (\"시스템이 종료되었습니다.\")\n",
        "\n",
        "total_sales = 0\n",
        "\n",
        "for bread_t in sales:\n",
        "    total_sales += sales[bread_t] * price[bread_t]\n",
        "print(f'오늘의 총 매출은' + format(total_sales, ',') + '입니다.')"
      ]
    },
    {
      "cell_type": "markdown",
      "metadata": {
        "id": "db265abZaO3P"
      },
      "source": [
        "__[과제 7: 최종 BungeoppangShop 클래스]__\n",
        "\n",
        "함수로 리팩토링한 \"붕어빵 자동 판매 시스템\" 작성 후 실행합니다."
      ]
    },
    {
      "cell_type": "code",
      "execution_count": null,
      "metadata": {
        "id": "oNkpinXDaO3P"
      },
      "outputs": [],
      "source": [
        "stock = {\n",
        "    \"팥붕어빵\" :10,\n",
        "    \"슈크림붕어빵\" : 8,\n",
        "    \"초코붕어빵\" : 5\n",
        "}\n",
        "\n",
        "sales = {\n",
        "    \"팥붕어빵\" :0,\n",
        "    \"슈크림붕어빵\" : 0,\n",
        "    \"초코붕어빵\" : 0\n",
        "}\n",
        "\n",
        "price = {\n",
        "    \"팥붕어빵\" :1000,\n",
        "    \"슈크림붕어빵\" : 1200,\n",
        "    \"초코붕어빵\" : 1500\n",
        "}\n",
        "\n",
        "while True:\n",
        "\n",
        "    mode = input(\"원하는 모드를 선택하세요\\n주문\\n관리자\\n종료\\n\")\n",
        "    if mode == \"종료\":\n",
        "        break\n",
        "\n",
        "    if mode == \"주문\":\n",
        "        while True:\n",
        "            bread_type = input(\"주문 할 맛을 골라주세요\\n 팥붕어빵\\n 슈크림붕어빵\\n 초코붕어빵\\n\")\n",
        "            if bread_type ==\"뒤로가기\":\n",
        "                break\n",
        "            elif bread_type == '팥붕어빵' or bread_type == '슈크림붕어빵' or bread_type == '초코붕어빵':\n",
        "                bread_count = int(input(\"주문할 붕어빵 개수를 입력해주세요\"))\n",
        "                if stock[bread_type] >= bread_count:\n",
        "                    stock[bread_type] -+ bread_count\n",
        "                    sales[bread_type] += bread_count\n",
        "                    print(f'{bread_type} {bread_count}개가 판매되었습니다.')\n",
        "                else:\n",
        "                    result = bread_count - stock[bread_type]\n",
        "                    print(f\"죄송합니다. {bread_type}의 재고가 {result}개 부족합니다.\")\n",
        "                print(\"----------------------\")\n",
        "                print(\"현재 재고는 아래와 같습니다.\")\n",
        "                for bread_t,bread_c in stock.items():\n",
        "                    print (f'{bread_t}: {bread_c}')\n",
        "            else:\n",
        "                print (\"3가지 붕어 빵 중에 선택해주세요\")\n",
        "\n",
        "    if mode ==\"관리자\":\n",
        "        bread_type = input(\"추가할 붕어빵 종류를 입력하세요\\n팥붕어빵\\n슈크림붕어빵\\n초코붕어빵\")\n",
        "        if bread_type ==\"종료\":\n",
        "            break\n",
        "        bread_count = int(input(\"추가할 붕어빵 개수를 입력하세요: \"))\n",
        "        stock[bread_type] += bread_count\n",
        "        print(f\"{bread_type}의 재고가 {bread_count}개 추가되어, 현재 {stock[bread_type]}개 입니다.\")\n",
        "\n",
        "\n",
        "print (\"시스템이 종료되었습니다.\")\n",
        "\n",
        "total_sales = 0\n",
        "\n",
        "for bread_t in sales:\n",
        "    total_sales += sales[bread_t] * price[bread_t]\n",
        "print(f'오늘의 총 매출은' + format(total_sales, ',') + '입니다.')\n"
      ]
    }
  ],
  "metadata": {
    "colab": {
      "provenance": [],
      "include_colab_link": true
    },
    "kernelspec": {
      "display_name": "Python 3",
      "name": "python3"
    },
    "language_info": {
      "codemirror_mode": {
        "name": "ipython",
        "version": 3
      },
      "file_extension": ".py",
      "mimetype": "text/x-python",
      "name": "python",
      "nbconvert_exporter": "python",
      "pygments_lexer": "ipython3",
      "version": "3.11.7"
    }
  },
  "nbformat": 4,
  "nbformat_minor": 0
}